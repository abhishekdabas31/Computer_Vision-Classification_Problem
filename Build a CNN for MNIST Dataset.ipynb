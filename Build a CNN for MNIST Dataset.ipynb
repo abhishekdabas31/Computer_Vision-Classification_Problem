{
 "cells": [
  {
   "cell_type": "markdown",
   "metadata": {},
   "source": [
    "In this example, we will be using\n",
    "- MNIST Dataset\n",
    "- Keras Library: which is a high-level neural networks API, written in Python and capable of running on top of either TensorFlow or Theano. It was developed with a focus on enabling fast experimentation."
   ]
  },
  {
   "cell_type": "code",
   "execution_count": 2,
   "metadata": {},
   "outputs": [],
   "source": [
    "#Imports \n",
    "\n",
    "from keras.datasets import mnist\n",
    "import matplotlib.pyplot as plt\n",
    "from keras.utils import to_categorical\n",
    "from keras.models import Sequential\n",
    "from keras.layers import Dense, Conv2D, Flatten\n",
    "from keras.utils import plot_model\n",
    "import keras"
   ]
  },
  {
   "cell_type": "code",
   "execution_count": 3,
   "metadata": {},
   "outputs": [],
   "source": [
    "(X_train,y_train),(X_test,y_test) = mnist.load_data()"
   ]
  },
  {
   "cell_type": "code",
   "execution_count": 4,
   "metadata": {},
   "outputs": [
    {
     "data": {
      "text/plain": [
       "<matplotlib.image.AxesImage at 0x1d34e588a48>"
      ]
     },
     "execution_count": 4,
     "metadata": {},
     "output_type": "execute_result"
    },
    {
     "data": {
      "image/png": "[encoded data removed]",
      "text/plain": [
       "<Figure size 432x288 with 1 Axes>"
      ]
     },
     "metadata": {
      "needs_background": "light"
     },
     "output_type": "display_data"
    }
   ],
   "source": [
    "plt.imshow(X_train[0])"
   ]
  },
  {
   "cell_type": "code",
   "execution_count": 5,
   "metadata": {},
   "outputs": [
    {
     "data": {
      "text/plain": [
       "(28, 28)"
      ]
     },
     "execution_count": 5,
     "metadata": {},
     "output_type": "execute_result"
    }
   ],
   "source": [
    "X_train[0].shape"
   ]
  },
  {
   "cell_type": "code",
   "execution_count": 6,
   "metadata": {},
   "outputs": [],
   "source": [
    "# Reshape\n",
    "## The Keras reshape function takes four arguments: \n",
    "##  number of training images, pixel size, and image depth—use 1 to indicate a grayscale image\n",
    "\n",
    "X_train = X_train.reshape(60000,28,28,1)\n",
    "X_test = X_test.reshape(10000, 28,28,1)\n"
   ]
  },
  {
   "cell_type": "code",
   "execution_count": 7,
   "metadata": {},
   "outputs": [
    {
     "name": "stdout",
     "output_type": "stream",
     "text": [
      "(10,)\n"
     ]
    },
    {
     "data": {
      "text/plain": [
       "array([0., 0., 0., 0., 0., 1., 0., 0., 0., 0.], dtype=float32)"
      ]
     },
     "execution_count": 7,
     "metadata": {},
     "output_type": "execute_result"
    }
   ],
   "source": [
    "# We will do One-hot encoding for the target variable\n",
    "## one column for each classification, 10 columns will be created if 10 values are present, \n",
    "### and one of them will contain \"1\"\n",
    "\n",
    "y_train = to_categorical(y_train)\n",
    "y_test = to_categorical(y_test)\n",
    "print(y_train[0].shape)\n",
    "y_train[0]"
   ]
  },
  {
   "cell_type": "markdown",
   "metadata": {},
   "source": [
    "## Feature Maps:\n",
    "- The most important idea in CNN is the moving filter, which passes through the image\n",
    "- The weights within the filter could be any combination of values depending on how the filters are trained.\n",
    "- These weights are held constant as the filter moves throughout the image. This way it learns to identify features such as lines, edges or a specific shape.\n",
    "## Pooling:\n",
    "It is similar to the feature maps, just that instead of a sliding window of matrix, we here apply some statistical function over the values in the window. Example: Max-pooling means it takes he maximun value from the pool, other examples could be mean pooling etc.\n",
    "- It reduces the parameters int he network, also known as downsampling\n",
    "- To make feature detection more robust, we make it inaffective to scale and orientation shanges\n",
    "## Strides and down-sampling:\n",
    "So above we saw that the feature maps go 1 block in X or Y direction, which leds to an overlap of filter areas. With Max pooling the stride is usually set so that there is no overlap.\n",
    "## Padding\n",
    "Pooling is used in convolutional neural networks to make the detection of certain features in the input invariant to scale and orientation changes. \n",
    "- The network shoudl detect the Image no matter the oriwntation of it, we need such a neural network. This is what padding helps us with.\n",
    "- pooling coupled with convolutional filters attempt to detect objects within an image.\n",
    "## Callbacks\n",
    "Callbacks in Keras are objects that are called at different points during training (at the start of an epoch, at the end of a batch, at the end of an epoch, etc. We can use it to create checkpoints which saves model at different stages in the training to help in avoiding the work loss. It is passed to the **.fit()** function\n",
    "\n",
    "### The model type that we will be using is Sequential. Sequential is the easiest way to build a model in Keras. It allows you to build a model layer by layer."
   ]
  },
  {
   "cell_type": "code",
   "execution_count": 8,
   "metadata": {},
   "outputs": [],
   "source": [
    "# create model using Sequential\n",
    "\n",
    "model = Sequential()"
   ]
  },
  {
   "cell_type": "code",
   "execution_count": 9,
   "metadata": {},
   "outputs": [
    {
     "name": "stdout",
     "output_type": "stream",
     "text": [
      "WARNING:tensorflow:From C:\\Users\\Abhishek\\Anaconda3\\lib\\site-packages\\tensorflow\\python\\ops\\resource_variable_ops.py:435: colocate_with (from tensorflow.python.framework.ops) is deprecated and will be removed in a future version.\n",
      "Instructions for updating:\n",
      "Colocations handled automatically by placer.\n"
     ]
    }
   ],
   "source": [
    "# adding model layers\n",
    "\n",
    "#  the first two layers are Conv2D—2-dimensional convolutional layers, our input images, which are seen as 2-dimensional matrices.\n",
    "## it takes 4 arguments\n",
    "##  Number of neural nodes per layer, kernel size, activation, input_shape (1 is for grey_scale)\n",
    "\n",
    "## we have 64 in first layer, 32 in 2nd layer, which can be adjusted higer or lower according to dataset\n",
    "\n",
    "## The Kernel size is the size of the filter matrix for our convolution,\n",
    "##  kernel size of 3 means we will have a 3x3 filter matrix.\n",
    "\n",
    "## Activation function used is ReLU, or Rectified Linear Activation\n",
    "## \"Softmax\" activation makes the output sum up to 1 so the output can be interpreted as probabilities\n",
    "\n",
    "## input_shape is (28,28,1) - where 1 signifies greyscale\n",
    "\n",
    "model.add(Conv2D(64, kernel_size =3, activation = \"relu\", input_shape= (28,28,1) ))\n",
    "model.add(Conv2D(32, kernel_size =3, activation = \"relu\"))\n",
    "\n",
    "#  Add a ‘Flatten’ layer, \n",
    "## which takes the output of the two convolution layers \n",
    "## and turns it into a format that can be used by the final, densely connected neural layer.\n",
    "model.add(Flatten())\n",
    "\n",
    "# Add the final layer of type ‘Dense’, a densely-connected neural layer which will generate the final prediction\n",
    "# Parameters: Number of output nodes—10, activation function - 10 \n",
    "model.add(Dense(10, activation='softmax'))"
   ]
  },
  {
   "cell_type": "markdown",
   "metadata": {},
   "source": [
    "**Note**: Each of the convolution layers reduces the depth, width and height of each feature, this is equivalent to the pooling/downsampling stage in the CNN model."
   ]
  },
  {
   "cell_type": "code",
   "execution_count": 10,
   "metadata": {},
   "outputs": [],
   "source": [
    "# now we complile the model  \n",
    "## Compiling the model takes three parameters: optimizer, loss and metrics.\n",
    "\n",
    "## adam is a good optimizer, adjusts the learning rate through training \n",
    "\n",
    "#compile model using accuracy to measure model performance\n",
    "model.compile(optimizer='adam', loss='categorical_crossentropy', metrics=['accuracy'])"
   ]
  },
  {
   "cell_type": "code",
   "execution_count": 11,
   "metadata": {},
   "outputs": [
    {
     "name": "stdout",
     "output_type": "stream",
     "text": [
      "WARNING:tensorflow:From C:\\Users\\Abhishek\\Anaconda3\\lib\\site-packages\\tensorflow\\python\\ops\\math_ops.py:3066: to_int32 (from tensorflow.python.ops.math_ops) is deprecated and will be removed in a future version.\n",
      "Instructions for updating:\n",
      "Use tf.cast instead.\n",
      "Train on 60000 samples, validate on 10000 samples\n",
      "Epoch 1/3\n",
      "60000/60000 [==============================] - 178s 3ms/step - loss: 0.8246 - accuracy: 0.9135 - val_loss: 0.0854 - val_accuracy: 0.9732\n",
      "Epoch 2/3\n",
      "60000/60000 [==============================] - 163s 3ms/step - loss: 0.0670 - accuracy: 0.9795 - val_loss: 0.0756 - val_accuracy: 0.9773\n",
      "Epoch 3/3\n",
      "60000/60000 [==============================] - 172s 3ms/step - loss: 0.0458 - accuracy: 0.9854 - val_loss: 0.0978 - val_accuracy: 0.9746\n"
     ]
    },
    {
     "data": {
      "text/plain": [
       "<keras.callbacks.callbacks.History at 0x1d34ea28cc8>"
      ]
     },
     "execution_count": 11,
     "metadata": {},
     "output_type": "execute_result"
    }
   ],
   "source": [
    "#train the model\n",
    "\n",
    "# parameters: training data (train_X), target data (train_y), validation data, and the number of epochs.\n",
    "## epochs is the number of times the model will cycle through the data.\n",
    "\n",
    "\n",
    "model.fit(X_train, y_train, validation_data=(X_test, y_test), epochs=3)"
   ]
  },
  {
   "cell_type": "code",
   "execution_count": 12,
   "metadata": {},
   "outputs": [
    {
     "name": "stdout",
     "output_type": "stream",
     "text": [
      "Model: \"sequential_1\"\n",
      "_________________________________________________________________\n",
      "Layer (type)                 Output Shape              Param #   \n",
      "=================================================================\n",
      "conv2d_1 (Conv2D)            (None, 26, 26, 64)        640       \n",
      "_________________________________________________________________\n",
      "conv2d_2 (Conv2D)            (None, 24, 24, 32)        18464     \n",
      "_________________________________________________________________\n",
      "flatten_1 (Flatten)          (None, 18432)             0         \n",
      "_________________________________________________________________\n",
      "dense_1 (Dense)              (None, 10)                184330    \n",
      "=================================================================\n",
      "Total params: 203,434\n",
      "Trainable params: 203,434\n",
      "Non-trainable params: 0\n",
      "_________________________________________________________________\n"
     ]
    }
   ],
   "source": [
    "# Summary of the model \n",
    "model.summary()"
   ]
  },
  {
   "cell_type": "code",
   "execution_count": null,
   "metadata": {},
   "outputs": [],
   "source": [
    "## check the predictions\n",
    "\n",
    "#predict first 4 images in the test set\n",
    "model.predict(X_test[:4])\n"
   ]
  },
  {
   "cell_type": "code",
   "execution_count": null,
   "metadata": {},
   "outputs": [],
   "source": [
    "import matplotlib.pyplot as plt\n",
    "plt.plot(hist.history[\"acc\"])\n",
    "plt.plot(hist.history['val_acc'])\n",
    "plt.plot(hist.history['loss'])\n",
    "plt.plot(hist.history['val_loss'])\n",
    "plt.title(\"model accuracy\")\n",
    "plt.ylabel(\"Accuracy\")\n",
    "plt.xlabel(\"Epoch\")\n",
    "plt.legend([\"Accuracy\",\"Validation Accuracy\",\"loss\",\"Validation Loss\"])\n",
    "plt.show()"
   ]
  }
 ],
 "metadata": {
  "kernelspec": {
   "display_name": "Python 3",
   "language": "python",
   "name": "python3"
  },
  "language_info": {
   "codemirror_mode": {
    "name": "ipython",
    "version": 3
   },
   "file_extension": ".py",
   "mimetype": "text/x-python",
   "name": "python",
   "nbconvert_exporter": "python",
   "pygments_lexer": "ipython3",
   "version": "3.7.4"
  }
 },
 "nbformat": 4,
 "nbformat_minor": 2
}
